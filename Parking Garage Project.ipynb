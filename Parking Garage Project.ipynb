{
 "cells": [
  {
   "cell_type": "markdown",
   "metadata": {},
   "source": [
    "# Parking Garage Project\n",
    "\n",
    "Your assignment for today is to create a parking garage class to get more familiar with Object Oriented Programming(OOP). \n",
    "\n",
    "Your parking gargage class should have the following methods:\n",
    "- takeTicket\n",
    "   - This should decrease the amount of tickets available by 1\n",
    "   - This should decrease the amount of parkingSpaces available by 1\n",
    "- payForParking\n",
    "   - Display an input that waits for an amount from the user and store it in a variable\n",
    "   - If the payment variable is not empty then ->  display a message to the user that their ticket has been paid and they have 15mins to leave\n",
    "   - This should update the \"currentTicket\" dictionary key \"paid\" to True\n",
    "-leaveGarage\n",
    "   - If the ticket has been paid, display a message of \"Thank You, have a nice day\"\n",
    "   - If the ticket has not been paid, display an input prompt for payment\n",
    "      - Once paid, display message \"Thank you, have a nice day!\"\n",
    "   - Update parkingSpaces list to increase by 1\n",
    "   - Update tickets list to increase by 1\n",
    "\n",
    "You will need a few attributes as well:\n",
    "- tickets -> list\n",
    "- parkingSpaces -> list\n",
    "- currentTicket -> dictionary"
   ]
  },
  {
   "cell_type": "code",
   "execution_count": 45,
   "metadata": {},
   "outputs": [],
   "source": [
    "# Your Code will go here\n",
    "class ParkingGarage:\n",
    "    def __init__(self, total_spaces, total_tickets):\n",
    "        ##total_spaces and total_tickets need to be given as inputs because they are not going to update\n",
    "        self.available_spaces = total_spaces  # Initialize available parking spaces\n",
    "        self.available_tickets = total_tickets  # Initialize available tickets\n",
    "        self.total_spaces = total_spaces  # Total parking spaces\n",
    "        self.parkingSpaces = [f\"Spot {i + 1}\" for i in range(total_spaces)]  # Generate Spot 1, Spot 2, etc.\n",
    "        self.total_tickets = total_tickets  # Total tickets\n",
    "        self.transaction_id = 0  # Initialize transaction ID\n",
    "        self.payment_amount = 0  # Initialize payment amount\n",
    "        self.tickets = []  # List to store tickets\n",
    "\n",
    "        # Initialize the current_ticket dictionary\n",
    "        ## this is the dictionary we will update with each payment id and confirmation\n",
    "        self.current_ticket = {\n",
    "            \"paid\": False,  # Indicates if the ticket has been paid\n",
    "            \"transaction_id\": self.transaction_id,  # Unique identifier for the transaction\n",
    "            \"assigned_space\": None,\n",
    "            \"time_limit\": 15,  # Time limit for leaving after payment\n",
    "            'garage_name': \"Tony's Bargain Parking\" #gave it a name for funsies \n",
    "        }\n",
    "    def takeTicket(self):\n",
    "        #check if spaces are available. \n",
    "        #if yes, decrease avaialble spaces and tickets and \"take\" a spot\n",
    "        #start a ticket and populate\n",
    "        if self.available_spaces > 0:\n",
    "            self.available_spaces -= 1\n",
    "            self. available_tickets -= 1\n",
    "            self.transaction_id += 1\n",
    "            self.current_ticket[\"transaction_id\"] = self.transaction_id  \n",
    "            self.current_ticket[\"paid\"] = False  \n",
    "            self.current_ticket[\"assigned_space\"] = self.parkingSpaces.pop(0) #pop does what we want where we select and remove\n",
    "            #\n",
    "            print(f\"Ticket {self.transaction_id} issued. Assigned space: {self.current_ticket['assigned_space']} {self.current_ticket['garage_name']}\") \n",
    "        else:\n",
    "            print(\"So sorry, the garage is full. Please visit Tony's Bargain Parking another day\")\n",
    "        \n",
    "    def payForParking(self):\n",
    "        #Display an input that waits for an amount from the user and store it in a variable\n",
    "        #If the payment variable is not empty then -> display a message to the user that their ticket has been paid and they have 15mins to leave\n",
    "        #updates dictionary paid to true\n",
    "        #we are going to actually free the space when the car leaves rather than when they pay\n",
    "        spot_id=input(\"Please input your ticket transaction number\")\n",
    "        payment=input(\"Please input your payment amount\")\n",
    "        if payment:\n",
    "            print(f\"Your ticket has been paid, you have {self.current_ticket['time_limit']} minutes remaining to exit the garage. Thanks!\")\n",
    "            self.current_ticket[\"paid\"] = True\n",
    "        else:\n",
    "            print(\"you need to enter a non-empty payment amount\")\n",
    "        \n",
    "    def leaveGarage(self):\n",
    "        #If the ticket has been paid, display a message of \"Thank You, have a nice day\"\n",
    "        #If the ticket has not been paid, display an input prompt for payment\n",
    "        #Once paid, display message \"Thank you, have a nice day!\"\n",
    "        #Update parkingSpaces list to increase by 1\n",
    "        #Update tickets list to increase by 1\n",
    "        #add the available spot back to the list, since we used pop and removed it before\n",
    "        if self.current_ticket[\"paid\"] == True:\n",
    "            print(\"Thank you, have a nice day\")\n",
    "            self.available_spaces += 1\n",
    "            self. available_tickets += 1\n",
    "            self.parkingSpaces.append(self.current_ticket[\"assigned_space\"])  \n",
    "        else:\n",
    "            spot_id=input(\"Please input your ticket transaction number\")\n",
    "            if spot_id != str(self.current_ticket[\"transaction_id\"]):\n",
    "                print(\"Invalid transaction number.\")\n",
    "            payment=float(input(\"Please input your payment amount\"))\n",
    "            if payment:\n",
    "                print(f\"Your ticket has been paid, you have {self.current_ticket['time_limit']} minutes remaining to exit the garage. Thanks!\")\n",
    "                self.current_ticket[\"paid\"] = True\n",
    "            else:\n",
    "                print(\"you need to enter a non-empty payment amount\")\n",
    "    \n",
    "\n"
   ]
  },
  {
   "cell_type": "code",
   "execution_count": 43,
   "metadata": {},
   "outputs": [
    {
     "name": "stdout",
     "output_type": "stream",
     "text": [
      "Ticket 1 issued. Assigned space: Spot 1 Tony's Bargain Parking\n"
     ]
    },
    {
     "name": "stdin",
     "output_type": "stream",
     "text": [
      "Please input your ticket transaction number 1\n",
      "Please input your payment amount \n"
     ]
    },
    {
     "name": "stdout",
     "output_type": "stream",
     "text": [
      "you need to enter a non-empty payment amount\n"
     ]
    }
   ],
   "source": [
    "g1=ParkingGarage(26,26)\n",
    "g1.takeTicket()\n",
    "g1.payForParking()"
   ]
  },
  {
   "cell_type": "code",
   "execution_count": null,
   "metadata": {},
   "outputs": [],
   "source": []
  }
 ],
 "metadata": {
  "kernelspec": {
   "display_name": "Python 3 (ipykernel)",
   "language": "python",
   "name": "python3"
  },
  "language_info": {
   "codemirror_mode": {
    "name": "ipython",
    "version": 3
   },
   "file_extension": ".py",
   "mimetype": "text/x-python",
   "name": "python",
   "nbconvert_exporter": "python",
   "pygments_lexer": "ipython3",
   "version": "3.11.7"
  }
 },
 "nbformat": 4,
 "nbformat_minor": 4
}
