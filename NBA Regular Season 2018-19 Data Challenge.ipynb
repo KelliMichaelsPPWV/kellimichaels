{
 "cells": [
  {
   "cell_type": "markdown",
   "metadata": {},
   "source": [
    "# Nba Regular Season 2018-19 Data Challenge\n",
    "\n",
    "Your task will be to take the dataset given, and create an analysis answering the following 10 questions. This project will again test your knowledge of pandas in order to find the answers needed given the data you are presented with."
   ]
  },
  {
   "cell_type": "markdown",
   "metadata": {},
   "source": [
    "# What was the average age of player in the league?"
   ]
  },
  {
   "cell_type": "code",
   "execution_count": 5,
   "metadata": {},
   "outputs": [
    {
     "data": {
      "text/html": [
       "<div>\n",
       "<style scoped>\n",
       "    .dataframe tbody tr th:only-of-type {\n",
       "        vertical-align: middle;\n",
       "    }\n",
       "\n",
       "    .dataframe tbody tr th {\n",
       "        vertical-align: top;\n",
       "    }\n",
       "\n",
       "    .dataframe thead th {\n",
       "        text-align: right;\n",
       "    }\n",
       "</style>\n",
       "<table border=\"1\" class=\"dataframe\">\n",
       "  <thead>\n",
       "    <tr style=\"text-align: right;\">\n",
       "      <th></th>\n",
       "      <th>Name</th>\n",
       "      <th>Height</th>\n",
       "      <th>Weight</th>\n",
       "      <th>Team</th>\n",
       "      <th>Age</th>\n",
       "      <th>Salary</th>\n",
       "      <th>Points</th>\n",
       "      <th>Blocks</th>\n",
       "      <th>Steals</th>\n",
       "      <th>Assists</th>\n",
       "      <th>...</th>\n",
       "      <th>MP</th>\n",
       "      <th>G</th>\n",
       "      <th>PER</th>\n",
       "      <th>OWS</th>\n",
       "      <th>DWS</th>\n",
       "      <th>WS</th>\n",
       "      <th>WS48</th>\n",
       "      <th>USG</th>\n",
       "      <th>BPM</th>\n",
       "      <th>VORP</th>\n",
       "    </tr>\n",
       "  </thead>\n",
       "  <tbody>\n",
       "    <tr>\n",
       "      <th>0</th>\n",
       "      <td>Alex Abrines</td>\n",
       "      <td>78</td>\n",
       "      <td>200</td>\n",
       "      <td>Oklahoma City Thunder</td>\n",
       "      <td>25</td>\n",
       "      <td>5455236</td>\n",
       "      <td>5.3</td>\n",
       "      <td>0.2</td>\n",
       "      <td>0.5</td>\n",
       "      <td>0.6</td>\n",
       "      <td>...</td>\n",
       "      <td>19.0</td>\n",
       "      <td>31</td>\n",
       "      <td>6.3</td>\n",
       "      <td>0.1</td>\n",
       "      <td>0.6</td>\n",
       "      <td>0.6</td>\n",
       "      <td>0.053</td>\n",
       "      <td>12.2</td>\n",
       "      <td>-3.4</td>\n",
       "      <td>-0.2</td>\n",
       "    </tr>\n",
       "    <tr>\n",
       "      <th>1</th>\n",
       "      <td>Quincy Acy</td>\n",
       "      <td>79</td>\n",
       "      <td>240</td>\n",
       "      <td>Phoenix Suns</td>\n",
       "      <td>28</td>\n",
       "      <td>213949</td>\n",
       "      <td>1.7</td>\n",
       "      <td>0.4</td>\n",
       "      <td>0.1</td>\n",
       "      <td>0.8</td>\n",
       "      <td>...</td>\n",
       "      <td>12.3</td>\n",
       "      <td>10</td>\n",
       "      <td>2.9</td>\n",
       "      <td>-0.1</td>\n",
       "      <td>0.0</td>\n",
       "      <td>-0.1</td>\n",
       "      <td>-0.022</td>\n",
       "      <td>9.2</td>\n",
       "      <td>-5.9</td>\n",
       "      <td>-0.1</td>\n",
       "    </tr>\n",
       "    <tr>\n",
       "      <th>2</th>\n",
       "      <td>Jaylen Adams</td>\n",
       "      <td>74</td>\n",
       "      <td>190</td>\n",
       "      <td>Atlanta Hawks</td>\n",
       "      <td>22</td>\n",
       "      <td>236854</td>\n",
       "      <td>3.2</td>\n",
       "      <td>0.1</td>\n",
       "      <td>0.4</td>\n",
       "      <td>1.9</td>\n",
       "      <td>...</td>\n",
       "      <td>12.6</td>\n",
       "      <td>34</td>\n",
       "      <td>7.6</td>\n",
       "      <td>-0.1</td>\n",
       "      <td>0.2</td>\n",
       "      <td>0.1</td>\n",
       "      <td>0.011</td>\n",
       "      <td>13.5</td>\n",
       "      <td>-4.4</td>\n",
       "      <td>-0.3</td>\n",
       "    </tr>\n",
       "    <tr>\n",
       "      <th>3</th>\n",
       "      <td>Steven Adams</td>\n",
       "      <td>84</td>\n",
       "      <td>265</td>\n",
       "      <td>Oklahoma City Thunder</td>\n",
       "      <td>25</td>\n",
       "      <td>24157304</td>\n",
       "      <td>13.9</td>\n",
       "      <td>1.0</td>\n",
       "      <td>1.5</td>\n",
       "      <td>1.6</td>\n",
       "      <td>...</td>\n",
       "      <td>33.4</td>\n",
       "      <td>80</td>\n",
       "      <td>18.5</td>\n",
       "      <td>5.1</td>\n",
       "      <td>4.0</td>\n",
       "      <td>9.1</td>\n",
       "      <td>0.163</td>\n",
       "      <td>16.4</td>\n",
       "      <td>2.7</td>\n",
       "      <td>3.2</td>\n",
       "    </tr>\n",
       "    <tr>\n",
       "      <th>4</th>\n",
       "      <td>Bam Adebayo</td>\n",
       "      <td>82</td>\n",
       "      <td>255</td>\n",
       "      <td>Miami Heat</td>\n",
       "      <td>21</td>\n",
       "      <td>2955840</td>\n",
       "      <td>8.9</td>\n",
       "      <td>0.8</td>\n",
       "      <td>0.9</td>\n",
       "      <td>2.2</td>\n",
       "      <td>...</td>\n",
       "      <td>23.3</td>\n",
       "      <td>82</td>\n",
       "      <td>17.9</td>\n",
       "      <td>3.4</td>\n",
       "      <td>3.4</td>\n",
       "      <td>6.8</td>\n",
       "      <td>0.171</td>\n",
       "      <td>15.8</td>\n",
       "      <td>3.0</td>\n",
       "      <td>2.4</td>\n",
       "    </tr>\n",
       "  </tbody>\n",
       "</table>\n",
       "<p>5 rows × 27 columns</p>\n",
       "</div>"
      ],
      "text/plain": [
       "           Name  Height  Weight                   Team  Age    Salary  Points  \\\n",
       "0  Alex Abrines      78     200  Oklahoma City Thunder   25   5455236     5.3   \n",
       "1    Quincy Acy      79     240           Phoenix Suns   28    213949     1.7   \n",
       "2  Jaylen Adams      74     190          Atlanta Hawks   22    236854     3.2   \n",
       "3  Steven Adams      84     265  Oklahoma City Thunder   25  24157304    13.9   \n",
       "4   Bam Adebayo      82     255             Miami Heat   21   2955840     8.9   \n",
       "\n",
       "   Blocks  Steals  Assists  ...    MP   G   PER  OWS  DWS   WS   WS48   USG  \\\n",
       "0     0.2     0.5      0.6  ...  19.0  31   6.3  0.1  0.6  0.6  0.053  12.2   \n",
       "1     0.4     0.1      0.8  ...  12.3  10   2.9 -0.1  0.0 -0.1 -0.022   9.2   \n",
       "2     0.1     0.4      1.9  ...  12.6  34   7.6 -0.1  0.2  0.1  0.011  13.5   \n",
       "3     1.0     1.5      1.6  ...  33.4  80  18.5  5.1  4.0  9.1  0.163  16.4   \n",
       "4     0.8     0.9      2.2  ...  23.3  82  17.9  3.4  3.4  6.8  0.171  15.8   \n",
       "\n",
       "   BPM  VORP  \n",
       "0 -3.4  -0.2  \n",
       "1 -5.9  -0.1  \n",
       "2 -4.4  -0.3  \n",
       "3  2.7   3.2  \n",
       "4  3.0   2.4  \n",
       "\n",
       "[5 rows x 27 columns]"
      ]
     },
     "execution_count": 5,
     "metadata": {},
     "output_type": "execute_result"
    }
   ],
   "source": [
    "#start with importing and checking out the file\n",
    "import pandas as pd\n",
    "nba_data = pd.read_csv('nbastats2018-2019.csv')\n",
    "nba_data.head()\n",
    "\n",
    "#okay now let's find the average age from 'Age' using .mean()\n",
    "average_age = nba_data['Age'].mean()\n",
    "print(f\"The average player age is {average_age}\")"
   ]
  },
  {
   "cell_type": "markdown",
   "metadata": {},
   "source": [
    "# What player scored the most points?"
   ]
  },
  {
   "cell_type": "code",
   "execution_count": 9,
   "metadata": {},
   "outputs": [
    {
     "name": "stdout",
     "output_type": "stream",
     "text": [
      "The top scorer from the spreadsheet was James Harden with 36.1\n"
     ]
    }
   ],
   "source": [
    "#points are stored ina column called 'Points'\n",
    "#calculate max using .max()\n",
    "max_points = nba_data['Points'].max()\n",
    "\n",
    "# Retrieve the player associated with high score\n",
    "#Retrieve their name specifically so I can print it\n",
    "top_scorer = nba_data[nba_data['Points'] == max_points]\n",
    "player_name = top_scorer['Name'].values[0]\n",
    "\n",
    "print(f\"The top scorer from the spreadsheet was {player_name} with {max_points}\")\n"
   ]
  },
  {
   "cell_type": "markdown",
   "metadata": {},
   "source": [
    "# What player had the most blocks during the season? Was it a post player (F/C)?"
   ]
  },
  {
   "cell_type": "code",
   "execution_count": 12,
   "metadata": {},
   "outputs": [
    {
     "name": "stdout",
     "output_type": "stream",
     "text": [
      "The player with the most blocks was Myles Turner with 2.7 blocks.\n"
     ]
    }
   ],
   "source": [
    "#Blocks is called Blocks Determine if the player is a “post player”: In basketball, \n",
    "#“post players” typically refer to players in forward (F) or center (C) positions\n",
    "#find out what column position lives in since it did not appea rin my .head() preview\n",
    "nba_data.columns\n",
    "\n",
    "#There is not postion information in the csv file, no column title indicates any position info\n",
    "#so I will just answer who had the most blocks, which is similar to the last problem\n",
    "\n",
    "#get player and name of player with max value in Blocks\n",
    "max_blocks = nba_data['Blocks'].max()\n",
    "top_blocker = nba_data[nba_data['Blocks'] == max_blocks]\n",
    "player_name = top_blocker['Name'].values[0]\n",
    "\n",
    "print(f\"The player with the most blocks was {player_name} with {max_blocks} blocks.\")"
   ]
  },
  {
   "cell_type": "markdown",
   "metadata": {},
   "source": [
    "# Based on the regular season, who had the best chance to win a title given their win percentage?"
   ]
  },
  {
   "cell_type": "code",
   "execution_count": 18,
   "metadata": {},
   "outputs": [
    {
     "name": "stdout",
     "output_type": "stream",
     "text": [
      "Based on my studies, the Milwaukee Bucks are the most likely to win a title this year\n"
     ]
    }
   ],
   "source": [
    "nba_data.columns\n",
    "\n",
    "#this info is in the win share WS column. The team with the highest sum of win share values is most likely to win\n",
    "#we just need to pull the WS value for each player and then group by team and sort by total\n",
    "#group by team\n",
    "team_win_shares = nba_data.groupby('Team')['WS'].sum()\n",
    "sorted_teams = team_win_shares.sort_values(ascending=False)\n",
    "\n",
    "#top team is the top of sorted teams\n",
    "top_team = sorted_teams.index[0]\n",
    "\n",
    "print(f\"Based on my studies, the {top_team} are the most likely to win a title this year\")"
   ]
  },
  {
   "cell_type": "markdown",
   "metadata": {},
   "source": [
    "# What player had the best 3-pt percentage? "
   ]
  },
  {
   "cell_type": "code",
   "execution_count": 20,
   "metadata": {},
   "outputs": [
    {
     "name": "stdout",
     "output_type": "stream",
     "text": [
      "The player with the best three-point percentage is Trevon Duval with a percentage of 1.0%.\n"
     ]
    }
   ],
   "source": [
    "nba_data.columns\n",
    "\n",
    "#column of interest is called FG3%\n",
    "max_fg3_percentage = nba_data['FG3%'].max()\n",
    "best_3pt_shooter = nba_data[nba_data['FG3%'] == max_fg3_percentage]\n",
    "player_name = best_3pt_shooter['Name'].values[0]\n",
    "\n",
    "print(f\"The player with the best three-point percentage is {player_name} with a percentage of {max_fg3_percentage}%.\")"
   ]
  },
  {
   "cell_type": "markdown",
   "metadata": {},
   "source": [
    "# Who played the most minutes during the season"
   ]
  },
  {
   "cell_type": "code",
   "execution_count": 22,
   "metadata": {},
   "outputs": [
    {
     "name": "stdout",
     "output_type": "stream",
     "text": [
      "The player who played the most minutes is Bradley Beal with 36.9 minutes played.\n"
     ]
    }
   ],
   "source": [
    "nba_data.columns\n",
    "\n",
    "#okay MP stands for minutes played so that is our column of interest\n",
    "#very similar to previous problems, use .max()\n",
    "max_minutes = nba_data['MP'].max()\n",
    "most_minutes_player = nba_data[nba_data['MP'] == max_minutes]\n",
    "player_name = most_minutes_player['Name'].values[0]\n",
    "\n",
    "\n",
    "print(f\"The player who played the most minutes is {player_name} with {max_minutes} minutes played.\")"
   ]
  },
  {
   "cell_type": "markdown",
   "metadata": {},
   "source": [
    "# What player given their player effiecency rating was the clutchest during the season?"
   ]
  },
  {
   "cell_type": "code",
   "execution_count": 24,
   "metadata": {},
   "outputs": [
    {
     "name": "stdout",
     "output_type": "stream",
     "text": [
      "The player with the highest player efficiency rating (PER) is Zhou Qi with a PER of 80.4.\n"
     ]
    }
   ],
   "source": [
    "#I think this question is asking what player has the highest efficiency rating, which seems like it would be in the PER\n",
    "#again find the max, associated player, and player's name\n",
    "max_per = nba_data['PER'].max()\n",
    "top_per_player = nba_data[nba_data['PER'] == max_per]\n",
    "player_name = top_per_player['Name'].values[0]\n",
    "\n",
    "print(f\"The player with the highest player efficiency rating (PER) is {player_name} with a PER of {max_per}.\")"
   ]
  },
  {
   "cell_type": "markdown",
   "metadata": {},
   "source": [
    "# What team had the youngest roster?"
   ]
  },
  {
   "cell_type": "code",
   "execution_count": 25,
   "metadata": {},
   "outputs": [
    {
     "name": "stdout",
     "output_type": "stream",
     "text": [
      "The team with the youngest roster is Chicago Bulls with an average age of 24.3125.\n"
     ]
    }
   ],
   "source": [
    "##I want the team with the youngest roster so I am going to get all the player ages, group by team, and then find the minimum. \n",
    "##then get the name of the team with the minimum average age\n",
    "\n",
    "# Group by team and calculate the average age for each team\n",
    "team_avg_age = nba_data.groupby('Team')['Age'].mean()\n",
    "\n",
    "#idxmin() returns the ID of the minimum instead of the minimum itself\n",
    "youngest_team = team_avg_age.idxmin()\n",
    "youngest_age = team_avg_age.min()\n",
    "\n",
    "print(f\"The team with the youngest roster is {youngest_team} with an average age of {youngest_age}.\")\n"
   ]
  },
  {
   "cell_type": "markdown",
   "metadata": {},
   "source": [
    "# Who is the highest paid player during the seasion?"
   ]
  },
  {
   "cell_type": "code",
   "execution_count": 27,
   "metadata": {},
   "outputs": [
    {
     "name": "stdout",
     "output_type": "stream",
     "text": [
      "The highest-paid player is John Jenkins with a salary of $99290.\n"
     ]
    }
   ],
   "source": [
    "#this time we want to look inthe salary category, get the max and find the name. \n",
    "\n",
    "max_salary = nba_data['Salary'].max()\n",
    "highest_paid_player = nba_data[nba_data['Salary'] == max_salary]\n",
    "player_name = highest_paid_player['Name'].values[0]\n",
    "\n",
    "print(f\"The highest-paid player is {player_name} with a salary of ${max_salary}. Impressive!\")"
   ]
  },
  {
   "cell_type": "markdown",
   "metadata": {},
   "source": [
    "# At the end of a game, who WOULDN'T you want on the Free Throw Line?"
   ]
  },
  {
   "cell_type": "code",
   "execution_count": 29,
   "metadata": {},
   "outputs": [
    {
     "name": "stdout",
     "output_type": "stream",
     "text": [
      "The player with the worst free throw percentage is Jacob Evans with a free throw percentage of 0.0%. Sad\n"
     ]
    }
   ],
   "source": [
    "#let's find the player with the worst free throw percentage\n",
    "#column is FT%\n",
    "\n",
    "min_ft_percentage = nba_data['FT%'].min()\n",
    "worst_ft_player = nba_data[nba_data['FT%'] == min_ft_percentage]\n",
    "player_name = worst_ft_player['Name'].values[0]\n",
    "\n",
    "\n",
    "print(f\"The player with the worst free throw percentage is {player_name} with a free throw percentage of {min_ft_percentage}%. Sad.\")\n"
   ]
  },
  {
   "cell_type": "code",
   "execution_count": null,
   "metadata": {},
   "outputs": [],
   "source": []
  }
 ],
 "metadata": {
  "kernelspec": {
   "display_name": "Python 3 (ipykernel)",
   "language": "python",
   "name": "python3"
  },
  "language_info": {
   "codemirror_mode": {
    "name": "ipython",
    "version": 3
   },
   "file_extension": ".py",
   "mimetype": "text/x-python",
   "name": "python",
   "nbconvert_exporter": "python",
   "pygments_lexer": "ipython3",
   "version": "3.11.7"
  }
 },
 "nbformat": 4,
 "nbformat_minor": 4
}
