{
 "cells": [
  {
   "cell_type": "markdown",
   "id": "0928373f-2d1a-4479-bb83-57a5c020a41e",
   "metadata": {},
   "source": [
    "This is where I am planning the ananlysis of the Education Library data set. I'll make a mark-down comment block with each of my questions/hypotheses and then we will find the answers and graph the results. This analysis will focus on how often books have circulated. \n",
    "\n",
    "Let's set up our imports and open up the file and read out all the column titles for easy reference\n"
   ]
  },
  {
   "cell_type": "code",
   "execution_count": 5,
   "id": "03bdf1fc-e764-4f90-aafd-dbb4525473e5",
   "metadata": {},
   "outputs": [
    {
     "name": "stdout",
     "output_type": "stream",
     "text": [
      "['Catalog Format', 'Catalog Id', 'Catalog Flex Id', 'Catalog Created Date', 'Catalog Created Year', 'Catalog Author', 'Catalog Title', 'Item Call Number', 'Item Shelving Id', 'Item Barcode', 'Item Collection', 'Item Id', 'Item Category1', 'Item Type', 'Item Last Activity Year', 'Item Last Checkout Year', 'Item Library Desc', 'Item Library Code', 'Item Status', 'Item Stat Period Checkouts', 'Total Lifetime Circulation']\n"
     ]
    }
   ],
   "source": [
    "##all my imports are up here\n",
    "import pandas as pd \n",
    "import matplotlib.pyplot as plt\n",
    "import string\n",
    "from datetime import datetime\n",
    "\n",
    "#open file\n",
    "file_name=\"Education_Library.xlsx\"\n",
    "data=pd.read_excel(file_name)\n",
    "\n",
    "#list columns for easy reference\n",
    "print(data.columns.tolist())"
   ]
  },
  {
   "cell_type": "markdown",
   "id": "b906f9e5-1a98-43ca-bb50-7e546b62c271",
   "metadata": {},
   "source": [
    "What is the average amount of time since a book has been checked out? Make a histogram of how many years it has been since each book was checked out. (<1 years, <2 years, etc). So subtract last active year from current year. check for any invalid (negative) values and print out an eorror message with the book info is that is the case. Otherwise put the differences in a histogram. "
   ]
  },
  {
   "cell_type": "code",
   "execution_count": 11,
   "id": "79f5d5eb-98ff-4d6d-b846-983149bfe732",
   "metadata": {},
   "outputs": [
    {
     "data": {
      "image/png": "[encoded data removed]",
      "text/plain": [
       "<Figure size 1000x600 with 1 Axes>"
      ]
     },
     "metadata": {},
     "output_type": "display_data"
    }
   ],
   "source": [
    "#Make sure values are numeric (see lower down for NaN values)\n",
    "data['Item Last Checkout Year'] = pd.to_numeric(data['Item Last Checkout Year'], errors='coerce')\n",
    "current_year= datetime.now().year\n",
    "\n",
    "# Calculate years since last checkout\n",
    "data['Years Since Last Checkout'] = current_year - data['Item Last Checkout Year']\n",
    "\n",
    "# Check for invalid (negative) values\n",
    "invalid_entries = data[data['Years Since Last Checkout'] < 0] ##return true/false\n",
    "\n",
    "if not invalid_entries.empty:\n",
    "        # Print error message with book info for invalid entries\n",
    "        print(\"Invalid entries found where the last checkout year is in the future:\")\n",
    "        print(invalid_entries[['Catalog Title', 'Item Last Checkout Year']])\n",
    "else:\n",
    "        # Plot the histogram for valid entries\n",
    "        valid_data = data[data['Years Since Last Checkout'] >= 0]\n",
    "\n",
    "        plt.figure(figsize=(10, 6))\n",
    "        plt.hist(valid_data['Years Since Last Checkout'], bins=range(0, 12), edgecolor='black', align='left')\n",
    "        plt.title('Histogram of Years Since Last Checkout')\n",
    "        plt.xlabel('Years Since Last Checkout')\n",
    "        plt.ylabel('Number of Books')\n",
    "        plt.grid(axis='y')\n",
    "        plt.show()\n",
    "\n",
    "##This is a really interesting result! a huge proportion of books have been checked out in the last two years. \n",
    "##Definitely one of the more active library collections"
   ]
  },
  {
   "cell_type": "code",
   "execution_count": null,
   "id": "a525e4e3-81fb-41bb-9ab7-24bc32c1d630",
   "metadata": {},
   "outputs": [],
   "source": [
    "What percentage of books have never been checked out?"
   ]
  },
  {
   "cell_type": "code",
   "execution_count": 12,
   "id": "7c143ccc-8e1d-41b2-a59a-067ba8cfffef",
   "metadata": {},
   "outputs": [
    {
     "name": "stdout",
     "output_type": "stream",
     "text": [
      "Number of books that have never been checked out: 0\n"
     ]
    }
   ],
   "source": [
    "##We will take any empty or NaN value to mean the book has not been checked out\n",
    "##identify entries with NaN or missing 'Item Last Checkout Year'\n",
    "never_checked_out = data[data['Item Last Checkout Year'].isna()]\n",
    "\n",
    "# Count the number of books never checked out\n",
    "never_checked_out_count = never_checked_out.shape[0]\n",
    "\n",
    "# Print the results\n",
    "print(f\"Number of books that have never been checked out: {never_checked_out_count}\")\n",
    "if never_checked_out_count > 0:\n",
    "    print(\"Details of books never checked out:\")\n",
    "    print(never_checked_out[['Catalog Title', 'Catalog Author', 'Item Barcode']])\n",
    "\n",
    "##Great, as I sort of expected, all of the books in the data set have been checked out at some point in 2000-2024"
   ]
  },
  {
   "cell_type": "markdown",
   "id": "8c56322c-d9b6-44ea-8dcb-a865f0f1ef4e",
   "metadata": {},
   "source": [
    "What percentage of the collection has ciruclated in the last 1, 5, 10, and 20 years? let's make a little bar graph of what percentage of the books have been checked out in that time frame. "
   ]
  },
  {
   "cell_type": "code",
   "execution_count": null,
   "id": "fb9b9651-749b-4fab-bb67-bb7c16fbfd44",
   "metadata": {},
   "outputs": [],
   "source": [
    "#code here"
   ]
  },
  {
   "cell_type": "markdown",
   "id": "8c4b6904-cdc6-494a-afd8-cab8ade755b0",
   "metadata": {},
   "source": [
    "How many books have been checked out 0, 1, 2, 3, 4, 5, or 5+ times? make a pie chart sorting the books into these categories."
   ]
  },
  {
   "cell_type": "code",
   "execution_count": null,
   "id": "479149e2-8072-4a8d-8612-c5cbc3d55ca0",
   "metadata": {},
   "outputs": [],
   "source": [
    "#code here"
   ]
  },
  {
   "cell_type": "markdown",
   "id": "458d3695-7eb5-4145-be96-ea39a44f4046",
   "metadata": {},
   "source": [
    "What are the top 10 most circulated books in the data base? Do any of those 10 books have the same author? What is the average year of publication for these top 10 books?"
   ]
  },
  {
   "cell_type": "code",
   "execution_count": null,
   "id": "56222351-2cd3-44b6-859a-1b1f14d0697a",
   "metadata": {},
   "outputs": [],
   "source": [
    "#code here"
   ]
  },
  {
   "cell_type": "markdown",
   "id": "2a6ba6d0-1664-495d-a5ee-7f8daed7016e",
   "metadata": {},
   "source": [
    "Are newer books checked out more freuqeuntly? Make a 2D plot showing cat creat year vs. avg number of check outs per year for each book. Maybe fit it with a linear regression or something."
   ]
  },
  {
   "cell_type": "code",
   "execution_count": null,
   "id": "28e87407-1c3d-44d5-8e13-1a0ac0f54bcd",
   "metadata": {},
   "outputs": [],
   "source": [
    "#code here"
   ]
  }
 ],
 "metadata": {
  "kernelspec": {
   "display_name": "Python 3 (ipykernel)",
   "language": "python",
   "name": "python3"
  },
  "language_info": {
   "codemirror_mode": {
    "name": "ipython",
    "version": 3
   },
   "file_extension": ".py",
   "mimetype": "text/x-python",
   "name": "python",
   "nbconvert_exporter": "python",
   "pygments_lexer": "ipython3",
   "version": "3.11.7"
  }
 },
 "nbformat": 4,
 "nbformat_minor": 5
}
