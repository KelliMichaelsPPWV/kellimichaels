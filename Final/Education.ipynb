{
 "cells": [
  {
   "cell_type": "markdown",
   "id": "0928373f-2d1a-4479-bb83-57a5c020a41e",
   "metadata": {},
   "source": [
    "This is where I am planning the ananlysis of the Education Library data set. I'll make a mark-down comment block with each of my questions/hypotheses and then we will find the answers and graph the results. This analysis will focus on how often books have circulated. "
   ]
  },
  {
   "cell_type": "markdown",
   "id": "b906f9e5-1a98-43ca-bb50-7e546b62c271",
   "metadata": {},
   "source": [
    "What is the average amount of time since a book has been checked out? Make a histogram of how many years it has been since each book was checked out. (<1 years, <2 years, etc)"
   ]
  },
  {
   "cell_type": "code",
   "execution_count": null,
   "id": "79f5d5eb-98ff-4d6d-b846-983149bfe732",
   "metadata": {},
   "outputs": [],
   "source": [
    "#code here"
   ]
  },
  {
   "cell_type": "code",
   "execution_count": null,
   "id": "a525e4e3-81fb-41bb-9ab7-24bc32c1d630",
   "metadata": {},
   "outputs": [],
   "source": [
    "What percentage of books have never been checked out?"
   ]
  },
  {
   "cell_type": "code",
   "execution_count": null,
   "id": "7c143ccc-8e1d-41b2-a59a-067ba8cfffef",
   "metadata": {},
   "outputs": [],
   "source": [
    "#code here"
   ]
  },
  {
   "cell_type": "markdown",
   "id": "8c56322c-d9b6-44ea-8dcb-a865f0f1ef4e",
   "metadata": {},
   "source": [
    "What percentage of the collection has ciruclated in the last 1, 5, 10, and 20 years? let's make a little bar graph of what percentage of the books have been checked out in that time frame. "
   ]
  },
  {
   "cell_type": "code",
   "execution_count": null,
   "id": "fb9b9651-749b-4fab-bb67-bb7c16fbfd44",
   "metadata": {},
   "outputs": [],
   "source": [
    "#code here"
   ]
  },
  {
   "cell_type": "markdown",
   "id": "8c4b6904-cdc6-494a-afd8-cab8ade755b0",
   "metadata": {},
   "source": [
    "How many books have been checked out 0, 1, 2, 3, 4, 5, or 5+ times? make a pie chart sorting the books into these categories."
   ]
  },
  {
   "cell_type": "code",
   "execution_count": null,
   "id": "479149e2-8072-4a8d-8612-c5cbc3d55ca0",
   "metadata": {},
   "outputs": [],
   "source": [
    "#code here"
   ]
  },
  {
   "cell_type": "markdown",
   "id": "458d3695-7eb5-4145-be96-ea39a44f4046",
   "metadata": {},
   "source": [
    "What are the top 10 most circulated books in the data base? Do any of those 10 books have the same author? What is the average year of publication for these top 10 books?"
   ]
  },
  {
   "cell_type": "code",
   "execution_count": null,
   "id": "56222351-2cd3-44b6-859a-1b1f14d0697a",
   "metadata": {},
   "outputs": [],
   "source": [
    "#code here"
   ]
  },
  {
   "cell_type": "markdown",
   "id": "2a6ba6d0-1664-495d-a5ee-7f8daed7016e",
   "metadata": {},
   "source": [
    "Are newer books checked out more freuqeuntly? Make a 2D plot showing cat creat year vs. avg number of check outs per year for each book. Maybe fit it with a linear regression or something."
   ]
  },
  {
   "cell_type": "code",
   "execution_count": null,
   "id": "28e87407-1c3d-44d5-8e13-1a0ac0f54bcd",
   "metadata": {},
   "outputs": [],
   "source": [
    "#code here"
   ]
  }
 ],
 "metadata": {
  "kernelspec": {
   "display_name": "Python 3 (ipykernel)",
   "language": "python",
   "name": "python3"
  },
  "language_info": {
   "codemirror_mode": {
    "name": "ipython",
    "version": 3
   },
   "file_extension": ".py",
   "mimetype": "text/x-python",
   "name": "python",
   "nbconvert_exporter": "python",
   "pygments_lexer": "ipython3",
   "version": "3.11.7"
  }
 },
 "nbformat": 4,
 "nbformat_minor": 5
}
