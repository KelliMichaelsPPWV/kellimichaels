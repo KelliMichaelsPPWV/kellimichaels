{
 "cells": [
  {
   "cell_type": "markdown",
   "metadata": {},
   "source": [
    "# AirBnB NY Locations Data Case Study\n",
    "\n",
    "In this final project, you task will be to take the data provided and find evidance to answer the following questions.\n",
    "\n",
    "1. Which hosts are the busiest and why?\n",
    "2. How many neighborhood groups are available and which shows up the most?\n",
    "3. Are private rooms the most popular in manhattan?\n",
    "4. Which hosts are the busiest and based on their reviews?\n",
    "5. Which neighorhood group has the highest average price?\n",
    "6. Which neighborhood group has the highest total price?\n",
    "7. Which top 5 hosts have the highest total price?\n",
    "8. Who currently has no (zero) availability with a review count of 100 or more?\n",
    "9. What host has the highest total of prices and where are they located?\n",
    "10. When did Danielle from Queens last receive a review?\n",
    "\n",
    "You will be given **4 hours** to complete this assignment. \n",
    "**Be Advised** I will go dark for this intire assignment time period. That said, any questions that you would like to ask about the data, or the project **MUST** be asked before the time starts. Once the time has started, I can no longer give information.\n",
    "\n",
    "This is to similate what you will face when you are out in the wild. \n",
    "\n",
    "Happy Coding!"
   ]
  },
  {
   "cell_type": "code",
   "execution_count": 1,
   "metadata": {},
   "outputs": [],
   "source": [
    "import numpy as np\n",
    "import pandas as pd\n",
    "import matplotlib.pyplot as plt"
   ]
  },
  {
   "cell_type": "code",
   "execution_count": 2,
   "metadata": {},
   "outputs": [
    {
     "data": {
      "text/html": [
       "<div>\n",
       "<style scoped>\n",
       "    .dataframe tbody tr th:only-of-type {\n",
       "        vertical-align: middle;\n",
       "    }\n",
       "\n",
       "    .dataframe tbody tr th {\n",
       "        vertical-align: top;\n",
       "    }\n",
       "\n",
       "    .dataframe thead th {\n",
       "        text-align: right;\n",
       "    }\n",
       "</style>\n",
       "<table border=\"1\" class=\"dataframe\">\n",
       "  <thead>\n",
       "    <tr style=\"text-align: right;\">\n",
       "      <th></th>\n",
       "      <th>id</th>\n",
       "      <th>name</th>\n",
       "      <th>host_id</th>\n",
       "      <th>host_name</th>\n",
       "      <th>neighbourhood_group</th>\n",
       "      <th>neighbourhood</th>\n",
       "      <th>latitude</th>\n",
       "      <th>longitude</th>\n",
       "      <th>room_type</th>\n",
       "      <th>price</th>\n",
       "      <th>minimum_nights</th>\n",
       "      <th>number_of_reviews</th>\n",
       "      <th>last_review</th>\n",
       "      <th>reviews_per_month</th>\n",
       "      <th>calculated_host_listings_count</th>\n",
       "      <th>availability_365</th>\n",
       "    </tr>\n",
       "  </thead>\n",
       "  <tbody>\n",
       "    <tr>\n",
       "      <th>0</th>\n",
       "      <td>2539</td>\n",
       "      <td>Clean &amp; quiet apt home by the park</td>\n",
       "      <td>2787</td>\n",
       "      <td>John</td>\n",
       "      <td>Brooklyn</td>\n",
       "      <td>Kensington</td>\n",
       "      <td>40.64749</td>\n",
       "      <td>-73.97237</td>\n",
       "      <td>Private room</td>\n",
       "      <td>149</td>\n",
       "      <td>1</td>\n",
       "      <td>9</td>\n",
       "      <td>2018-10-19</td>\n",
       "      <td>0.21</td>\n",
       "      <td>6</td>\n",
       "      <td>365</td>\n",
       "    </tr>\n",
       "    <tr>\n",
       "      <th>1</th>\n",
       "      <td>2595</td>\n",
       "      <td>Skylit Midtown Castle</td>\n",
       "      <td>2845</td>\n",
       "      <td>Jennifer</td>\n",
       "      <td>Manhattan</td>\n",
       "      <td>Midtown</td>\n",
       "      <td>40.75362</td>\n",
       "      <td>-73.98377</td>\n",
       "      <td>Entire home/apt</td>\n",
       "      <td>225</td>\n",
       "      <td>1</td>\n",
       "      <td>45</td>\n",
       "      <td>2019-05-21</td>\n",
       "      <td>0.38</td>\n",
       "      <td>2</td>\n",
       "      <td>355</td>\n",
       "    </tr>\n",
       "    <tr>\n",
       "      <th>2</th>\n",
       "      <td>3647</td>\n",
       "      <td>THE VILLAGE OF HARLEM....NEW YORK !</td>\n",
       "      <td>4632</td>\n",
       "      <td>Elisabeth</td>\n",
       "      <td>Manhattan</td>\n",
       "      <td>Harlem</td>\n",
       "      <td>40.80902</td>\n",
       "      <td>-73.94190</td>\n",
       "      <td>Private room</td>\n",
       "      <td>150</td>\n",
       "      <td>3</td>\n",
       "      <td>0</td>\n",
       "      <td>NaN</td>\n",
       "      <td>NaN</td>\n",
       "      <td>1</td>\n",
       "      <td>365</td>\n",
       "    </tr>\n",
       "    <tr>\n",
       "      <th>3</th>\n",
       "      <td>3831</td>\n",
       "      <td>Cozy Entire Floor of Brownstone</td>\n",
       "      <td>4869</td>\n",
       "      <td>LisaRoxanne</td>\n",
       "      <td>Brooklyn</td>\n",
       "      <td>Clinton Hill</td>\n",
       "      <td>40.68514</td>\n",
       "      <td>-73.95976</td>\n",
       "      <td>Entire home/apt</td>\n",
       "      <td>89</td>\n",
       "      <td>1</td>\n",
       "      <td>270</td>\n",
       "      <td>2019-07-05</td>\n",
       "      <td>4.64</td>\n",
       "      <td>1</td>\n",
       "      <td>194</td>\n",
       "    </tr>\n",
       "    <tr>\n",
       "      <th>4</th>\n",
       "      <td>5022</td>\n",
       "      <td>Entire Apt: Spacious Studio/Loft by central park</td>\n",
       "      <td>7192</td>\n",
       "      <td>Laura</td>\n",
       "      <td>Manhattan</td>\n",
       "      <td>East Harlem</td>\n",
       "      <td>40.79851</td>\n",
       "      <td>-73.94399</td>\n",
       "      <td>Entire home/apt</td>\n",
       "      <td>80</td>\n",
       "      <td>10</td>\n",
       "      <td>9</td>\n",
       "      <td>2018-11-19</td>\n",
       "      <td>0.10</td>\n",
       "      <td>1</td>\n",
       "      <td>0</td>\n",
       "    </tr>\n",
       "  </tbody>\n",
       "</table>\n",
       "</div>"
      ],
      "text/plain": [
       "     id                                              name  host_id  \\\n",
       "0  2539                Clean & quiet apt home by the park     2787   \n",
       "1  2595                             Skylit Midtown Castle     2845   \n",
       "2  3647               THE VILLAGE OF HARLEM....NEW YORK !     4632   \n",
       "3  3831                   Cozy Entire Floor of Brownstone     4869   \n",
       "4  5022  Entire Apt: Spacious Studio/Loft by central park     7192   \n",
       "\n",
       "     host_name neighbourhood_group neighbourhood  latitude  longitude  \\\n",
       "0         John            Brooklyn    Kensington  40.64749  -73.97237   \n",
       "1     Jennifer           Manhattan       Midtown  40.75362  -73.98377   \n",
       "2    Elisabeth           Manhattan        Harlem  40.80902  -73.94190   \n",
       "3  LisaRoxanne            Brooklyn  Clinton Hill  40.68514  -73.95976   \n",
       "4        Laura           Manhattan   East Harlem  40.79851  -73.94399   \n",
       "\n",
       "         room_type  price  minimum_nights  number_of_reviews last_review  \\\n",
       "0     Private room    149               1                  9  2018-10-19   \n",
       "1  Entire home/apt    225               1                 45  2019-05-21   \n",
       "2     Private room    150               3                  0         NaN   \n",
       "3  Entire home/apt     89               1                270  2019-07-05   \n",
       "4  Entire home/apt     80              10                  9  2018-11-19   \n",
       "\n",
       "   reviews_per_month  calculated_host_listings_count  availability_365  \n",
       "0               0.21                               6               365  \n",
       "1               0.38                               2               355  \n",
       "2                NaN                               1               365  \n",
       "3               4.64                               1               194  \n",
       "4               0.10                               1                 0  "
      ]
     },
     "execution_count": 2,
     "metadata": {},
     "output_type": "execute_result"
    }
   ],
   "source": [
    "air_bnb = pd.read_csv('AB_NYC_2019.csv')\n",
    "air_bnb.head()\n",
    "\n"
   ]
  },
  {
   "cell_type": "code",
   "execution_count": 30,
   "metadata": {},
   "outputs": [
    {
     "name": "stdout",
     "output_type": "stream",
     "text": [
      "There are 5 neighborhood groups and Manhattan is the most commonly occurring group.\n"
     ]
    }
   ],
   "source": [
    "# How many neighborhood groups are available and which shows up the most?\n",
    "# relavant info will be found in neighbourhood group\n",
    "#find number of unique values and the most common\n",
    "\n",
    "\n",
    "neighborhood_groups_count = air_bnb['neighbourhood_group'].value_counts()  \n",
    "unique_neighborhood_groups = air_bnb['neighbourhood_group'].nunique()\n",
    "most_common_group = neighborhood_groups_count.idxmax()\n",
    "\n",
    "print(f\"There are {unique_neighborhood_groups} neighborhood groups and {most_common_group} is the most commonly occurring group.\")"
   ]
  },
  {
   "cell_type": "code",
   "execution_count": 33,
   "metadata": {},
   "outputs": [
    {
     "name": "stdout",
     "output_type": "stream",
     "text": [
      "False\n"
     ]
    }
   ],
   "source": [
    "# Are private rooms the most popular in manhattan?\n",
    "#find maximum room type count \n",
    "#see if that matches type private room, print true or false\n",
    "\n",
    "manhattan_listings = air_bnb[air_bnb['neighbourhood_group'] == 'Manhattan']\n",
    "\n",
    "# Count the room types in Manhattan\n",
    "room_type_counts_manhattan = manhattan_listings['room_type'].value_counts()\n",
    "\n",
    "most_popular_room_type = room_type_counts_manhattan.idxmax()\n",
    "\n",
    "if most_popular_room_type == 'Private room':\n",
    "    print(\"True\")\n",
    "else:\n",
    "    print(\"False\")"
   ]
  },
  {
   "cell_type": "code",
   "execution_count": 11,
   "metadata": {},
   "outputs": [
    {
     "name": "stdout",
     "output_type": "stream",
     "text": [
      "                                          total_reviews\n",
      "host_id   host_name                                    \n",
      "37312959  Maya                                     2273\n",
      "344035    Brooklyn&   Breakfast    -Len-           2205\n",
      "26432133  Danielle                                 2017\n",
      "35524316  Yasu & Akiko                             1971\n",
      "40176101  Brady                                    1818\n",
      "4734398   Jj                                       1798\n",
      "16677326  Alex And Zeena                           1355\n",
      "6885157   Randy                                    1346\n",
      "219517861 Sonder (NYC)                             1281\n",
      "23591164  Angela                                   1269\n"
     ]
    }
   ],
   "source": [
    "# Which hosts are the busiest and based on their reviews?\n",
    "\n",
    "##we want to sort the data based on the hosts (host id and host name)\n",
    "##Then sum up all the reviews from a listing using the number_of_reviews column\n",
    "##then sort by total reviews and print out the top\n",
    "\n",
    "busiest_hosts_by_reviews = air_bnb.groupby(['host_id', 'host_name']).agg(\n",
    "    total_reviews=('number_of_reviews', 'sum')\n",
    ").sort_values(by='total_reviews', ascending=False)\n",
    "\n",
    "## Print the top 10 \n",
    "print(busiest_hosts_by_reviews.head(10))"
   ]
  },
  {
   "cell_type": "code",
   "execution_count": 12,
   "metadata": {},
   "outputs": [
    {
     "data": {
      "text/html": [
       "<div>\n",
       "<style scoped>\n",
       "    .dataframe tbody tr th:only-of-type {\n",
       "        vertical-align: middle;\n",
       "    }\n",
       "\n",
       "    .dataframe tbody tr th {\n",
       "        vertical-align: top;\n",
       "    }\n",
       "\n",
       "    .dataframe thead th {\n",
       "        text-align: right;\n",
       "    }\n",
       "</style>\n",
       "<table border=\"1\" class=\"dataframe\">\n",
       "  <thead>\n",
       "    <tr style=\"text-align: right;\">\n",
       "      <th></th>\n",
       "      <th>avg_price</th>\n",
       "    </tr>\n",
       "    <tr>\n",
       "      <th>neighbourhood_group</th>\n",
       "      <th></th>\n",
       "    </tr>\n",
       "  </thead>\n",
       "  <tbody>\n",
       "    <tr>\n",
       "      <th>Manhattan</th>\n",
       "      <td>196.875814</td>\n",
       "    </tr>\n",
       "    <tr>\n",
       "      <th>Brooklyn</th>\n",
       "      <td>124.383207</td>\n",
       "    </tr>\n",
       "    <tr>\n",
       "      <th>Staten Island</th>\n",
       "      <td>114.812332</td>\n",
       "    </tr>\n",
       "    <tr>\n",
       "      <th>Queens</th>\n",
       "      <td>99.517649</td>\n",
       "    </tr>\n",
       "    <tr>\n",
       "      <th>Bronx</th>\n",
       "      <td>87.496792</td>\n",
       "    </tr>\n",
       "  </tbody>\n",
       "</table>\n",
       "</div>"
      ],
      "text/plain": [
       "                      avg_price\n",
       "neighbourhood_group            \n",
       "Manhattan            196.875814\n",
       "Brooklyn             124.383207\n",
       "Staten Island        114.812332\n",
       "Queens                99.517649\n",
       "Bronx                 87.496792"
      ]
     },
     "execution_count": 12,
     "metadata": {},
     "output_type": "execute_result"
    }
   ],
   "source": [
    "#Which neighorhood group has the highest average price?\n",
    "#this is similar to the last problem\n",
    "##group data by neighborhood group, calcualte average price for each group, sort groups by average price\n",
    "\n",
    "avg_price_by_neighborhood_group = air_bnb.groupby('neighbourhood_group').agg(\n",
    "    avg_price=('price', 'mean')\n",
    ").sort_values(by='avg_price', ascending=False)\n",
    "\n",
    "# Display the neighborhood groups with the highest average prices\n",
    "avg_price_by_neighborhood_group.head(5)  "
   ]
  },
  {
   "cell_type": "code",
   "execution_count": 13,
   "metadata": {},
   "outputs": [
    {
     "data": {
      "text/html": [
       "<div>\n",
       "<style scoped>\n",
       "    .dataframe tbody tr th:only-of-type {\n",
       "        vertical-align: middle;\n",
       "    }\n",
       "\n",
       "    .dataframe tbody tr th {\n",
       "        vertical-align: top;\n",
       "    }\n",
       "\n",
       "    .dataframe thead th {\n",
       "        text-align: right;\n",
       "    }\n",
       "</style>\n",
       "<table border=\"1\" class=\"dataframe\">\n",
       "  <thead>\n",
       "    <tr style=\"text-align: right;\">\n",
       "      <th></th>\n",
       "      <th>total_price</th>\n",
       "    </tr>\n",
       "    <tr>\n",
       "      <th>neighbourhood_group</th>\n",
       "      <th></th>\n",
       "    </tr>\n",
       "  </thead>\n",
       "  <tbody>\n",
       "    <tr>\n",
       "      <th>Manhattan</th>\n",
       "      <td>4264527</td>\n",
       "    </tr>\n",
       "  </tbody>\n",
       "</table>\n",
       "</div>"
      ],
      "text/plain": [
       "                     total_price\n",
       "neighbourhood_group             \n",
       "Manhattan                4264527"
      ]
     },
     "execution_count": 13,
     "metadata": {},
     "output_type": "execute_result"
    }
   ],
   "source": [
    "# Which neighbor hood group has the highest total price?\n",
    "#group by neighborhood group, sum prices per group, sort by total price\n",
    "\n",
    "total_price_by_neighborhood_group = air_bnb.groupby('neighbourhood_group').agg(\n",
    "    total_price=('price', 'sum')\n",
    ").sort_values(by='total_price', ascending=False)\n",
    "\n",
    "# Display the neighborhood group with the highest total price\n",
    "total_price_by_neighborhood_group.head(1)"
   ]
  },
  {
   "cell_type": "code",
   "execution_count": 14,
   "metadata": {},
   "outputs": [
    {
     "data": {
      "text/html": [
       "<div>\n",
       "<style scoped>\n",
       "    .dataframe tbody tr th:only-of-type {\n",
       "        vertical-align: middle;\n",
       "    }\n",
       "\n",
       "    .dataframe tbody tr th {\n",
       "        vertical-align: top;\n",
       "    }\n",
       "\n",
       "    .dataframe thead th {\n",
       "        text-align: right;\n",
       "    }\n",
       "</style>\n",
       "<table border=\"1\" class=\"dataframe\">\n",
       "  <thead>\n",
       "    <tr style=\"text-align: right;\">\n",
       "      <th></th>\n",
       "      <th></th>\n",
       "      <th>total_price</th>\n",
       "    </tr>\n",
       "    <tr>\n",
       "      <th>host_id</th>\n",
       "      <th>host_name</th>\n",
       "      <th></th>\n",
       "    </tr>\n",
       "  </thead>\n",
       "  <tbody>\n",
       "    <tr>\n",
       "      <th>219517861</th>\n",
       "      <th>Sonder (NYC)</th>\n",
       "      <td>82795</td>\n",
       "    </tr>\n",
       "    <tr>\n",
       "      <th>107434423</th>\n",
       "      <th>Blueground</th>\n",
       "      <td>70331</td>\n",
       "    </tr>\n",
       "    <tr>\n",
       "      <th>156158778</th>\n",
       "      <th>Sally</th>\n",
       "      <td>37097</td>\n",
       "    </tr>\n",
       "    <tr>\n",
       "      <th>205031545</th>\n",
       "      <th>Red Awning</th>\n",
       "      <td>35294</td>\n",
       "    </tr>\n",
       "    <tr>\n",
       "      <th>30283594</th>\n",
       "      <th>Kara</th>\n",
       "      <td>33581</td>\n",
       "    </tr>\n",
       "  </tbody>\n",
       "</table>\n",
       "</div>"
      ],
      "text/plain": [
       "                        total_price\n",
       "host_id   host_name                \n",
       "219517861 Sonder (NYC)        82795\n",
       "107434423 Blueground          70331\n",
       "156158778 Sally               37097\n",
       "205031545 Red Awning          35294\n",
       "30283594  Kara                33581"
      ]
     },
     "execution_count": 14,
     "metadata": {},
     "output_type": "execute_result"
    }
   ],
   "source": [
    "#Which top 5 hosts have the highest total price?\n",
    "#group by hosts, add the prices together, sort by total price\n",
    "#print out the top 5\n",
    "total_price_by_host = air_bnb.groupby(['host_id', 'host_name']).agg(\n",
    "    total_price=('price', 'sum')\n",
    ").sort_values(by='total_price', ascending=False)\n",
    "\n",
    "# Display the top 5 hosts with the highest total price\n",
    "total_price_by_host.head(5) "
   ]
  },
  {
   "cell_type": "code",
   "execution_count": 17,
   "metadata": {},
   "outputs": [
    {
     "name": "stdout",
     "output_type": "stream",
     "text": [
      "             id                                       name    host_id  \\\n",
      "8          5203         Cozy Clean Guest Room - Family Apt       7490   \n",
      "94        20913         Charming 1 bed GR8 WBurg LOCATION!      79402   \n",
      "132       30031           NYC artists’ loft with roof deck     129352   \n",
      "174       44221             Financial District Luxury Loft     193722   \n",
      "180       45556      Fort Greene, Brooklyn: Center Bedroom      67778   \n",
      "...         ...                                        ...        ...   \n",
      "29581  22705516         The Quietest Block in Manhattan :)  127740507   \n",
      "30461  23574142                          queens get away!!  176185168   \n",
      "31250  24267706  entire sunshine of the spotless mind room   21074914   \n",
      "32670  25719044                COZY Room for Female Guests   40119874   \n",
      "35014  27759146     Cozy corner near Empire State Building  209549523   \n",
      "\n",
      "        host_name neighbourhood_group              neighbourhood  latitude  \\\n",
      "8       MaryEllen           Manhattan            Upper West Side  40.80178   \n",
      "94     Christiana            Brooklyn               Williamsburg  40.70984   \n",
      "132           Sol            Brooklyn                 Greenpoint  40.73494   \n",
      "174         Coral           Manhattan         Financial District  40.70666   \n",
      "180          Doug            Brooklyn                Fort Greene  40.68863   \n",
      "...           ...                 ...                        ...       ...   \n",
      "29581    Kathleen           Manhattan                     Harlem  40.83102   \n",
      "30461       Janet              Queens                  Laurelton  40.68209   \n",
      "31250      Albert            Brooklyn         Bedford-Stuyvesant  40.68234   \n",
      "32670    Stephany            Brooklyn  Prospect-Lefferts Gardens  40.66242   \n",
      "35014     Mariluz           Manhattan                    Midtown  40.74858   \n",
      "\n",
      "       longitude        room_type  price  minimum_nights  number_of_reviews  \\\n",
      "8      -73.96723     Private room     79               2                118   \n",
      "94     -73.95775  Entire home/apt    100               5                168   \n",
      "132    -73.95030     Private room     50               3                193   \n",
      "174    -74.01374  Entire home/apt    196               3                114   \n",
      "180    -73.97691     Private room     65               2                206   \n",
      "...          ...              ...    ...             ...                ...   \n",
      "29581  -73.94181     Private room     65               2                103   \n",
      "30461  -73.73662     Private room     65               1                119   \n",
      "31250  -73.91318     Private room     49               1                102   \n",
      "32670  -73.94417     Private room     48               1                131   \n",
      "35014  -73.98341      Shared room     62               1                112   \n",
      "\n",
      "      last_review  reviews_per_month  calculated_host_listings_count  \\\n",
      "8      2017-07-21               0.99                               1   \n",
      "94     2018-07-22               1.57                               1   \n",
      "132    2019-05-20               1.86                               1   \n",
      "174    2019-06-20               1.06                               1   \n",
      "180    2019-06-30               1.92                               2   \n",
      "...           ...                ...                             ...   \n",
      "29581  2019-07-07               5.89                               2   \n",
      "30461  2018-12-24               7.79                               1   \n",
      "31250  2019-07-05               6.73                               3   \n",
      "32670  2019-05-31               9.97                               2   \n",
      "35014  2019-06-13              10.77                               3   \n",
      "\n",
      "       availability_365  \n",
      "8                     0  \n",
      "94                    0  \n",
      "132                   0  \n",
      "174                   0  \n",
      "180                   0  \n",
      "...                 ...  \n",
      "29581                 0  \n",
      "30461                 0  \n",
      "31250                 0  \n",
      "32670                 0  \n",
      "35014                 0  \n",
      "\n",
      "[162 rows x 16 columns]\n"
     ]
    }
   ],
   "source": [
    "# Who currently has no (zero) availability with a review count of 100 or more?\n",
    "#here we need to check the availability365 for availability\n",
    "# check number of reviews for review count\n",
    "\n",
    "hosts_zero_availability = air_bnb[(air_bnb['availability_365'] == 0) & (air_bnb['number_of_reviews'] >= 100)]\n",
    "\n",
    "#print out the results\n",
    "print(hosts_zero_availability)"
   ]
  },
  {
   "cell_type": "code",
   "execution_count": 18,
   "metadata": {},
   "outputs": [
    {
     "name": "stdout",
     "output_type": "stream",
     "text": [
      "                                                               total_price\n",
      "host_id   host_name    neighbourhood_group neighbourhood                  \n",
      "219517861 Sonder (NYC) Manhattan           Financial District        57738\n"
     ]
    }
   ],
   "source": [
    "# What host has the highest total of prices and where are they located?\n",
    "#group by host name and ID, sum up total prices, sort by total, print out info on our top earner\n",
    "#we also want to grab the neighborhood group and neighborhood to answer the where questions\n",
    "\n",
    "total_price_by_host_location = air_bnb.groupby(['host_id', 'host_name', 'neighbourhood_group', 'neighbourhood']).agg(\n",
    "    total_price=('price', 'sum')\n",
    ").sort_values(by='total_price', ascending=False)\n",
    "\n",
    "# Get the top-selling host with their location details\n",
    "top_selling_host = total_price_by_host_location.head(1)\n",
    "\n",
    "print(top_selling_host)\n"
   ]
  },
  {
   "cell_type": "code",
   "execution_count": 23,
   "metadata": {},
   "outputs": [
    {
     "name": "stdout",
     "output_type": "stream",
     "text": [
      "2019-07-08 00:00:00\n"
     ]
    }
   ],
   "source": [
    "# When did Danielle from Queens last receive a review?\n",
    "#we want to find the host names Danielle with the neighborhood Queens\n",
    "#we need to have error handing if there is some non-number value in the last_review column, originally didn't work we need this too\n",
    "air_bnb['last_review'] = pd.to_datetime(air_bnb['last_review'], errors='coerce')\n",
    "danielle_reviews = air_bnb[(air_bnb['host_name'] == 'Danielle') & (air_bnb['neighbourhood_group'] == 'Queens')]\n",
    "\n",
    "# Get the latest review date, maxiumum of dates with reviews\n",
    "danielle_last_review = danielle_reviews['last_review'].max()\n",
    "\n",
    "print(danielle_last_review)\n",
    "\n"
   ]
  },
  {
   "cell_type": "markdown",
   "metadata": {},
   "source": [
    "## Further Questions\n",
    "\n",
    "1. Which host has the most listings?"
   ]
  },
  {
   "cell_type": "code",
   "execution_count": 24,
   "metadata": {},
   "outputs": [
    {
     "name": "stdout",
     "output_type": "stream",
     "text": [
      "                        total_listings\n",
      "host_id   host_name                   \n",
      "219517861 Sonder (NYC)          106929\n"
     ]
    }
   ],
   "source": [
    "#group by host ID and host name, sum up total listings by host, sort by total listings\n",
    "\n",
    "most_listings_by_host = air_bnb.groupby(['host_id', 'host_name']).agg(total_listings=('calculated_host_listings_count', 'sum')).sort_values(by='total_listings', ascending=False)\n",
    "\n",
    "# Get the host with the most listings (top of list)\n",
    "top_host_with_most_listings = most_listings_by_host.head(1)\n",
    "\n",
    "print(top_host_with_most_listings)"
   ]
  },
  {
   "cell_type": "markdown",
   "metadata": {},
   "source": [
    "2. How many listings have completely open availability?"
   ]
  },
  {
   "cell_type": "code",
   "execution_count": 26,
   "metadata": {},
   "outputs": [
    {
     "name": "stdout",
     "output_type": "stream",
     "text": [
      "1295 listings are completely avaialble for booking.\n"
     ]
    }
   ],
   "source": [
    "#looking for listings where available_365 is equal to 365\n",
    "#count them and return how many\n",
    "\n",
    "completely_open_listings = air_bnb[air_bnb['availability_365'] == 365]\n",
    "\n",
    "# Count the number of such listings using .shape\n",
    "total_open_availability = completely_open_listings.shape[0]\n",
    "\n",
    "print(f\"{total_open_availability} listings are completely avaialble for booking.\")"
   ]
  },
  {
   "cell_type": "markdown",
   "metadata": {},
   "source": [
    "3. What room_types have the highest review numbers?"
   ]
  },
  {
   "cell_type": "code",
   "execution_count": 27,
   "metadata": {},
   "outputs": [
    {
     "name": "stdout",
     "output_type": "stream",
     "text": [
      "                 total_reviews\n",
      "room_type                     \n",
      "Entire home/apt         580403\n",
      "Private room            538346\n",
      "Shared room              19256\n"
     ]
    }
   ],
   "source": [
    "#group by room_type, sum total review number, sort by toal review numbers\n",
    "\n",
    "reviews_by_room_type = air_bnb.groupby('room_type').agg(\n",
    "    total_reviews=('number_of_reviews', 'sum')\n",
    ").sort_values(by='total_reviews', ascending=False)\n",
    "\n",
    "# Display the room types with the highest review numbers\n",
    "print(reviews_by_room_type)"
   ]
  },
  {
   "cell_type": "markdown",
   "metadata": {},
   "source": [
    "# Final Conclusion\n",
    "\n",
    "In this cell, write your final conclusion for each of the questions asked.\n",
    "\n",
    "Also, if you uncovered some more details that were not asked above, please discribe them here.\n",
    "\n",
    "-- Add your conclusion --"
   ]
  },
  {
   "cell_type": "code",
   "execution_count": null,
   "metadata": {},
   "outputs": [],
   "source": [
    "How many neighborhood groups are available and which shows up the most?\n",
    "There are 5 unique neighborhood groups and Manhattan is the most commonly occurring group.\n",
    "\n",
    "Are private rooms the most popular in manhattan?\n",
    "No, the most popular is not private rooms.\n",
    "\n",
    "Which hosts are the busiest and based on their reviews?\n",
    "for the top 5 hosts, their id number, name, and review count are as follows:\n",
    "37312959  Maya                                     2273\n",
    "344035    Brooklyn&   Breakfast    -Len-           2205\n",
    "26432133  Danielle                                 2017\n",
    "35524316  Yasu & Akiko                             1971\n",
    "40176101  Brady                                    1818\n",
    "\n",
    "Which neighorhood group has the highest average price?\n",
    "Manhattan with an average price of $196.875814\n",
    "\n",
    "Which neighborhood group has the highest total price?\n",
    "Manhattan with a total of $4264527\n",
    "\n",
    "Which top 5 hosts have the highest total price?\n",
    "the following are the hosts with top total prices\n",
    "below are displayed the Host ID< host name, and total price\n",
    "219517861\tSonder (NYC)\t82795\n",
    "107434423\tBlueground\t70331\n",
    "156158778\tSally\t37097\n",
    "205031545\tRed Awning\t35294\n",
    "30283594\tKara\t33581\n",
    "\n",
    "Who currently has no (zero) availability with a review count of 100 or more?\n",
    "For this one we just printed the relevant listings. There are listings that satisfy both criteria.\n",
    "\n",
    "What host has the highest total of prices and where are they located?\n",
    "1295 listings are completely avaialble for booking.\n",
    "\n",
    "When did Danielle from Queens last receive a review?\n",
    "Danielle left her last review on 2019-07-08 00:00:00\n"
   ]
  }
 ],
 "metadata": {
  "kernelspec": {
   "display_name": "Python 3 (ipykernel)",
   "language": "python",
   "name": "python3"
  },
  "language_info": {
   "codemirror_mode": {
    "name": "ipython",
    "version": 3
   },
   "file_extension": ".py",
   "mimetype": "text/x-python",
   "name": "python",
   "nbconvert_exporter": "python",
   "pygments_lexer": "ipython3",
   "version": "3.11.7"
  }
 },
 "nbformat": 4,
 "nbformat_minor": 4
}
